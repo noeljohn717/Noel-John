{
  "nbformat": 4,
  "nbformat_minor": 0,
  "metadata": {
    "colab": {
      "provenance": [],
      "authorship_tag": "ABX9TyMe5pVsOqhcASz9IpbIU2FI",
      "include_colab_link": true
    },
    "kernelspec": {
      "name": "python3",
      "display_name": "Python 3"
    },
    "language_info": {
      "name": "python"
    }
  },
  "cells": [
    {
      "cell_type": "markdown",
      "metadata": {
        "id": "view-in-github",
        "colab_type": "text"
      },
      "source": [
        "<a href=\"https://colab.research.google.com/github/noeljohn717/Noel-John/blob/main/quantum_phase_estimation_assignment_noel_john.ipynb\" target=\"_parent\"><img src=\"https://colab.research.google.com/assets/colab-badge.svg\" alt=\"Open In Colab\"/></a>"
      ]
    },
    {
      "source": [
        "!pip install qiskit==0.43.2"
      ],
      "cell_type": "code",
      "metadata": {
        "colab": {
          "base_uri": "https://localhost:8080/"
        },
        "id": "B3wyJq0de95B",
        "outputId": "e160b746-eb06-4f82-e522-e0c71e3713b7"
      },
      "execution_count": 1,
      "outputs": [
        {
          "output_type": "stream",
          "name": "stdout",
          "text": [
            "Requirement already satisfied: qiskit==0.43.2 in /usr/local/lib/python3.11/dist-packages (0.43.2)\n",
            "Requirement already satisfied: qiskit-terra==0.24.1 in /usr/local/lib/python3.11/dist-packages (from qiskit==0.43.2) (0.24.1)\n",
            "Requirement already satisfied: qiskit-aer==0.12.1 in /usr/local/lib/python3.11/dist-packages (from qiskit==0.43.2) (0.12.1)\n",
            "Requirement already satisfied: qiskit-ibmq-provider==0.20.2 in /usr/local/lib/python3.11/dist-packages (from qiskit==0.43.2) (0.20.2)\n",
            "Requirement already satisfied: numpy>=1.16.3 in /usr/local/lib/python3.11/dist-packages (from qiskit-aer==0.12.1->qiskit==0.43.2) (1.23.5)\n",
            "Requirement already satisfied: scipy>=1.0 in /usr/local/lib/python3.11/dist-packages (from qiskit-aer==0.12.1->qiskit==0.43.2) (1.13.1)\n",
            "Requirement already satisfied: requests>=2.19 in /usr/local/lib/python3.11/dist-packages (from qiskit-ibmq-provider==0.20.2->qiskit==0.43.2) (2.32.3)\n",
            "Requirement already satisfied: requests-ntlm<=1.1.0 in /usr/local/lib/python3.11/dist-packages (from qiskit-ibmq-provider==0.20.2->qiskit==0.43.2) (1.1.0)\n",
            "Requirement already satisfied: urllib3>=1.21.1 in /usr/local/lib/python3.11/dist-packages (from qiskit-ibmq-provider==0.20.2->qiskit==0.43.2) (2.3.0)\n",
            "Requirement already satisfied: python-dateutil>=2.8.0 in /usr/local/lib/python3.11/dist-packages (from qiskit-ibmq-provider==0.20.2->qiskit==0.43.2) (2.8.2)\n",
            "Requirement already satisfied: websocket-client>=1.5.1 in /usr/local/lib/python3.11/dist-packages (from qiskit-ibmq-provider==0.20.2->qiskit==0.43.2) (1.8.0)\n",
            "Requirement already satisfied: websockets>=10.0 in /usr/local/lib/python3.11/dist-packages (from qiskit-ibmq-provider==0.20.2->qiskit==0.43.2) (14.1)\n",
            "Requirement already satisfied: rustworkx>=0.12.0 in /usr/local/lib/python3.11/dist-packages (from qiskit-terra==0.24.1->qiskit==0.43.2) (0.16.0)\n",
            "Requirement already satisfied: ply>=3.10 in /usr/local/lib/python3.11/dist-packages (from qiskit-terra==0.24.1->qiskit==0.43.2) (3.11)\n",
            "Requirement already satisfied: psutil>=5 in /usr/local/lib/python3.11/dist-packages (from qiskit-terra==0.24.1->qiskit==0.43.2) (5.9.5)\n",
            "Requirement already satisfied: sympy>=1.3 in /usr/local/lib/python3.11/dist-packages (from qiskit-terra==0.24.1->qiskit==0.43.2) (1.13.1)\n",
            "Requirement already satisfied: dill>=0.3 in /usr/local/lib/python3.11/dist-packages (from qiskit-terra==0.24.1->qiskit==0.43.2) (0.3.9)\n",
            "Requirement already satisfied: stevedore>=3.0.0 in /usr/local/lib/python3.11/dist-packages (from qiskit-terra==0.24.1->qiskit==0.43.2) (5.4.0)\n",
            "Requirement already satisfied: symengine<0.10,>=0.9 in /usr/local/lib/python3.11/dist-packages (from qiskit-terra==0.24.1->qiskit==0.43.2) (0.9.2)\n",
            "Requirement already satisfied: six>=1.5 in /usr/local/lib/python3.11/dist-packages (from python-dateutil>=2.8.0->qiskit-ibmq-provider==0.20.2->qiskit==0.43.2) (1.17.0)\n",
            "Requirement already satisfied: charset-normalizer<4,>=2 in /usr/local/lib/python3.11/dist-packages (from requests>=2.19->qiskit-ibmq-provider==0.20.2->qiskit==0.43.2) (3.4.1)\n",
            "Requirement already satisfied: idna<4,>=2.5 in /usr/local/lib/python3.11/dist-packages (from requests>=2.19->qiskit-ibmq-provider==0.20.2->qiskit==0.43.2) (3.10)\n",
            "Requirement already satisfied: certifi>=2017.4.17 in /usr/local/lib/python3.11/dist-packages (from requests>=2.19->qiskit-ibmq-provider==0.20.2->qiskit==0.43.2) (2024.12.14)\n",
            "Requirement already satisfied: ntlm-auth>=1.0.2 in /usr/local/lib/python3.11/dist-packages (from requests-ntlm<=1.1.0->qiskit-ibmq-provider==0.20.2->qiskit==0.43.2) (1.5.0)\n",
            "Requirement already satisfied: cryptography>=1.3 in /usr/local/lib/python3.11/dist-packages (from requests-ntlm<=1.1.0->qiskit-ibmq-provider==0.20.2->qiskit==0.43.2) (43.0.3)\n",
            "Requirement already satisfied: pbr>=2.0.0 in /usr/local/lib/python3.11/dist-packages (from stevedore>=3.0.0->qiskit-terra==0.24.1->qiskit==0.43.2) (6.1.0)\n",
            "Requirement already satisfied: mpmath<1.4,>=1.1.0 in /usr/local/lib/python3.11/dist-packages (from sympy>=1.3->qiskit-terra==0.24.1->qiskit==0.43.2) (1.3.0)\n",
            "Requirement already satisfied: cffi>=1.12 in /usr/local/lib/python3.11/dist-packages (from cryptography>=1.3->requests-ntlm<=1.1.0->qiskit-ibmq-provider==0.20.2->qiskit==0.43.2) (1.17.1)\n",
            "Requirement already satisfied: pycparser in /usr/local/lib/python3.11/dist-packages (from cffi>=1.12->cryptography>=1.3->requests-ntlm<=1.1.0->qiskit-ibmq-provider==0.20.2->qiskit==0.43.2) (2.22)\n"
          ]
        }
      ]
    },
    {
      "source": [
        "import qiskit\n",
        "from qiskit import QuantumCircuit, ClassicalRegister, QuantumRegister, execute, Aer\n",
        "from qiskit.visualization import plot_histogram\n",
        "from qiskit.circuit.library import QFT"
      ],
      "cell_type": "code",
      "metadata": {
        "id": "eg4mrdzdfTgB"
      },
      "execution_count": 2,
      "outputs": []
    },
    {
      "source": [
        "# Number of counting qubits\n",
        "num_counting_qubits = 3\n",
        "\n",
        "# Create registers\n",
        "counting_qubits = QuantumRegister(num_counting_qubits, name='counting')\n",
        "target_qubit = QuantumRegister(1, name='target')\n",
        "classical_register = ClassicalRegister(num_counting_qubits, name='classical')\n",
        "\n",
        "# Create the circuit\n",
        "circuit = QuantumCircuit(counting_qubits, target_qubit, classical_register)\n",
        "\n",
        "# Initialize the target qubit to |1⟩\n",
        "circuit.x(target_qubit[0])\n",
        "\n",
        "# Apply Hadamard gates to counting qubits\n",
        "circuit.h(counting_qubits)\n",
        "\n",
        "# Apply controlled-S operations\n",
        "repetitions = 1\n",
        "for counting_qubit_index in range(num_counting_qubits):\n",
        "    for _ in range(repetitions):\n",
        "        circuit.cp(0.5 * 2 * 3.14159, counting_qubits[counting_qubit_index], target_qubit[0])  # Controlled-S (phase = pi/2 or 0.5 * 2pi)\n",
        "    repetitions *= 2\n",
        "\n",
        "# Apply inverse QFT\n",
        "circuit.append(QFT(num_counting_qubits, inverse=True), counting_qubits)\n",
        "\n",
        "# Measure the counting qubits\n",
        "circuit.measure(counting_qubits, classical_register)\n",
        "\n",
        "# Draw the circuit\n",
        "circuit.draw(fold=-1)"
      ],
      "cell_type": "code",
      "metadata": {
        "colab": {
          "base_uri": "https://localhost:8080/",
          "height": 186
        },
        "id": "dLztUdMmfVQ9",
        "outputId": "158d4fda-0f93-4268-9683-d6b1000e35de"
      },
      "execution_count": 13,
      "outputs": [
        {
          "output_type": "execute_result",
          "data": {
            "text/plain": [
              "             ┌───┐                                                                                    ┌───────┐┌─┐      \n",
              " counting_0: ┤ H ├─■──────────────────────────────────────────────────────────────────────────────────┤0      ├┤M├──────\n",
              "             ├───┤ │                                                                                  │       │└╥┘┌─┐   \n",
              " counting_1: ┤ H ├─┼───────────■───────────■──────────────────────────────────────────────────────────┤1 IQFT ├─╫─┤M├───\n",
              "             ├───┤ │           │           │                                                          │       │ ║ └╥┘┌─┐\n",
              " counting_2: ┤ H ├─┼───────────┼───────────┼───────────■───────────■───────────■───────────■──────────┤2      ├─╫──╫─┤M├\n",
              "             ├───┤ │P(3.1416)  │P(3.1416)  │P(3.1416)  │P(3.1416)  │P(3.1416)  │P(3.1416)  │P(3.1416) └───────┘ ║  ║ └╥┘\n",
              "     target: ┤ X ├─■───────────■───────────■───────────■───────────■───────────■───────────■────────────────────╫──╫──╫─\n",
              "             └───┘                                                                                              ║  ║  ║ \n",
              "classical: 3/═══════════════════════════════════════════════════════════════════════════════════════════════════╩══╩══╩═\n",
              "                                                                                                                0  1  2 "
            ],
            "text/html": [
              "<pre style=\"word-wrap: normal;white-space: pre;background: #fff0;line-height: 1.1;font-family: &quot;Courier New&quot;,Courier,monospace\">             ┌───┐                                                                                    ┌───────┐┌─┐      \n",
              " counting_0: ┤ H ├─■──────────────────────────────────────────────────────────────────────────────────┤0      ├┤M├──────\n",
              "             ├───┤ │                                                                                  │       │└╥┘┌─┐   \n",
              " counting_1: ┤ H ├─┼───────────■───────────■──────────────────────────────────────────────────────────┤1 IQFT ├─╫─┤M├───\n",
              "             ├───┤ │           │           │                                                          │       │ ║ └╥┘┌─┐\n",
              " counting_2: ┤ H ├─┼───────────┼───────────┼───────────■───────────■───────────■───────────■──────────┤2      ├─╫──╫─┤M├\n",
              "             ├───┤ │P(3.1416)  │P(3.1416)  │P(3.1416)  │P(3.1416)  │P(3.1416)  │P(3.1416)  │P(3.1416) └───────┘ ║  ║ └╥┘\n",
              "     target: ┤ X ├─■───────────■───────────■───────────■───────────■───────────■───────────■────────────────────╫──╫──╫─\n",
              "             └───┘                                                                                              ║  ║  ║ \n",
              "classical: 3/═══════════════════════════════════════════════════════════════════════════════════════════════════╩══╩══╩═\n",
              "                                                                                                                0  1  2 </pre>"
            ]
          },
          "metadata": {},
          "execution_count": 13
        }
      ]
    },
    {
      "source": [
        "simulator = Aer.get_backend('qasm_simulator')\n",
        "job = execute(circuit, simulator, shots=1024)\n",
        "result = job.result()\n",
        "counts = result.get_counts()"
      ],
      "cell_type": "code",
      "metadata": {
        "id": "T4f5RK_qfXdX"
      },
      "execution_count": 11,
      "outputs": []
    },
    {
      "source": [
        "plot_histogram(counts)"
      ],
      "cell_type": "code",
      "metadata": {
        "colab": {
          "base_uri": "https://localhost:8080/",
          "height": 472
        },
        "id": "XrodzrV8iN_y",
        "outputId": "da54fa34-ac7b-4d8e-c156-140440473cf4"
      },
      "execution_count": 12,
      "outputs": [
        {
          "output_type": "execute_result",
          "data": {
            "text/plain": [
              "<Figure size 700x500 with 1 Axes>"
            ],
            "image/png": "[encoded data removed]"
          },
          "metadata": {},
          "execution_count": 12
        }
      ]
    }
  ]
}